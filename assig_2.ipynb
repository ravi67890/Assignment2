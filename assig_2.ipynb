{
 "cells": [
  {
   "cell_type": "markdown",
   "id": "c89a0f08-7690-45ad-92a6-fe7bf0cc05cf",
   "metadata": {},
   "source": [
    "Q1>\n",
    "-->comment means the line of code will not be execute . \n",
    "--> There are mainly two types of comments \n",
    "> single line comment ex: #single line comment \n",
    "> multiple line comment  ex: \"\"\"Multiple line comment\"\"\" or '''Multiple line comment'''"
   ]
  },
  {
   "cell_type": "markdown",
   "id": "d2791e2b-b8df-4e1c-8fd8-dc04d59520be",
   "metadata": {},
   "source": [
    "Q2>\n",
    "variable is store any type type of data in python\n",
    "we can naming the variabel with alpha numeric charector\n",
    "ex: var1, var_2, var_three etc"
   ]
  },
  {
   "cell_type": "markdown",
   "id": "596b143f-2392-4051-950d-d1adb6bb2309",
   "metadata": {},
   "source": [
    "Q3> we can convert data type in python through casting method\n",
    "ex: I1 = 10\n",
    "will convert it in to float\n",
    "f1 = float(I1)"
   ]
  },
  {
   "cell_type": "code",
   "execution_count": 3,
   "id": "4502b4db-4b35-48f7-882d-36eb71f47436",
   "metadata": {},
   "outputs": [
    {
     "data": {
      "text/plain": [
       "[2, 3]"
      ]
     },
     "execution_count": 3,
     "metadata": {},
     "output_type": "execute_result"
    }
   ],
   "source": [
    "#Q4>\n",
    "my_list = [1,2,3,4,5]\n",
    "my_list[1:3]"
   ]
  },
  {
   "cell_type": "code",
   "execution_count": 4,
   "id": "47ab989d-6838-477e-be36-c294e990e780",
   "metadata": {},
   "outputs": [
    {
     "data": {
      "text/plain": [
       "'Complex number in python is the combination of real and imaginary number\\nex: 5 + 4j  '"
      ]
     },
     "execution_count": 4,
     "metadata": {},
     "output_type": "execute_result"
    }
   ],
   "source": [
    "#Q6\"\"\"Complex number in python is the combination of real and imaginary number\n",
    "ex: 5 + 4j  \"\"\""
   ]
  },
  {
   "cell_type": "code",
   "execution_count": 5,
   "id": "852065c4-25d9-4134-9e79-b384c4433f17",
   "metadata": {},
   "outputs": [],
   "source": [
    "#Q7>\n",
    "#age = 25"
   ]
  },
  {
   "cell_type": "code",
   "execution_count": 7,
   "id": "7c8df65c-a0df-448b-95f6-c94b4bf782e5",
   "metadata": {},
   "outputs": [
    {
     "data": {
      "text/plain": [
       "float"
      ]
     },
     "execution_count": 7,
     "metadata": {},
     "output_type": "execute_result"
    }
   ],
   "source": [
    "#Q8>\n",
    "price = 9.99\n",
    "type(price)"
   ]
  },
  {
   "cell_type": "code",
   "execution_count": 8,
   "id": "522baf3a-78d3-4e76-97af-984206c14a1e",
   "metadata": {},
   "outputs": [
    {
     "name": "stdout",
     "output_type": "stream",
     "text": [
      "ravi kumar\n"
     ]
    }
   ],
   "source": [
    "#9>\n",
    "name = \"ravi kumar\"\n",
    "print(name)"
   ]
  },
  {
   "cell_type": "code",
   "execution_count": 11,
   "id": "df429ceb-9eb7-4dd1-b4aa-22df06147699",
   "metadata": {},
   "outputs": [],
   "source": [
    "#Q10>\n",
    "s1 = \"Hello, World!\"\n",
    "s1 = s1[7:12]"
   ]
  },
  {
   "cell_type": "code",
   "execution_count": 12,
   "id": "f9262f27-e001-495f-848a-c14511f38249",
   "metadata": {},
   "outputs": [
    {
     "data": {
      "text/plain": [
       "'World'"
      ]
     },
     "execution_count": 12,
     "metadata": {},
     "output_type": "execute_result"
    }
   ],
   "source": [
    "s1"
   ]
  },
  {
   "cell_type": "code",
   "execution_count": null,
   "id": "52a431fc-2207-471a-b06c-e1b61aba6c4c",
   "metadata": {},
   "outputs": [],
   "source": []
  }
 ],
 "metadata": {
  "kernelspec": {
   "display_name": "Python 3 (ipykernel)",
   "language": "python",
   "name": "python3"
  },
  "language_info": {
   "codemirror_mode": {
    "name": "ipython",
    "version": 3
   },
   "file_extension": ".py",
   "mimetype": "text/x-python",
   "name": "python",
   "nbconvert_exporter": "python",
   "pygments_lexer": "ipython3",
   "version": "3.10.8"
  }
 },
 "nbformat": 4,
 "nbformat_minor": 5
}
