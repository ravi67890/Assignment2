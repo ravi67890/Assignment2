{
 "cells": [
  {
   "cell_type": "code",
   "execution_count": 1,
   "id": "63b55b08-8e2c-4253-aa51-5cb993eb6d66",
   "metadata": {},
   "outputs": [],
   "source": [
    "#Q1>\n",
    "l1 = [('Sachin Tendulkar', 34357), ('Ricky Ponting', 27483), ('Jack Kallis', 25534), ('Virat Kohli', 24936)]\n",
    "new_list = sorted(l1, key = lambda x: x[1], reverse=False)"
   ]
  },
  {
   "cell_type": "code",
   "execution_count": 2,
   "id": "a4d1bff7-ecd1-4ff5-967a-f57f16f484a9",
   "metadata": {},
   "outputs": [],
   "source": [
    "#Q2>\n",
    "l1 = [1, 2, 3, 4, 5, 6, 7, 8, 9, 10]\n",
    "sqr_list = list(map(lambda x:x**2, l1))"
   ]
  },
  {
   "cell_type": "code",
   "execution_count": 4,
   "id": "1f500965-2617-4765-80c5-54b52eb44a0f",
   "metadata": {},
   "outputs": [
    {
     "data": {
      "text/plain": [
       "[1, 4, 9, 16, 25, 36, 49, 64, 81, 100]"
      ]
     },
     "execution_count": 4,
     "metadata": {},
     "output_type": "execute_result"
    }
   ],
   "source": [
    "sqr_list"
   ]
  },
  {
   "cell_type": "code",
   "execution_count": 7,
   "id": "d81b1752-ac25-40f6-b2f8-481604e1f62c",
   "metadata": {},
   "outputs": [],
   "source": [
    "#Q3>\n",
    "l1 = [1, 2, 3, 4, 5, 6, 7, 8, 9, 10]\n",
    "t = tuple(map(lambda x: str(x), l1))"
   ]
  },
  {
   "cell_type": "code",
   "execution_count": 8,
   "id": "ac5355ee-563c-4d11-aa2f-e31cbe140570",
   "metadata": {},
   "outputs": [],
   "source": [
    "#Q4>\n",
    "from functools import reduce\n",
    "r = range(1,25)\n",
    "r1 = reduce(lambda x, y: x * y, r)\n"
   ]
  },
  {
   "cell_type": "code",
   "execution_count": 9,
   "id": "3a35ace3-5f71-4160-9ac1-4adb2614fa78",
   "metadata": {},
   "outputs": [],
   "source": [
    "#Q5>\n",
    "l1 = [2, 3, 6, 9, 27, 60, 90, 120, 55, 46]\n",
    "f = list(filter(lambda x: x%2==0 and x%3==0,l1))"
   ]
  },
  {
   "cell_type": "code",
   "execution_count": null,
   "id": "16bd1cf4-77e4-4ddc-a01b-b495ff375abf",
   "metadata": {},
   "outputs": [],
   "source": [
    "#Q6>\n"
   ]
  }
 ],
 "metadata": {
  "kernelspec": {
   "display_name": "Python 3 (ipykernel)",
   "language": "python",
   "name": "python3"
  },
  "language_info": {
   "codemirror_mode": {
    "name": "ipython",
    "version": 3
   },
   "file_extension": ".py",
   "mimetype": "text/x-python",
   "name": "python",
   "nbconvert_exporter": "python",
   "pygments_lexer": "ipython3",
   "version": "3.10.8"
  }
 },
 "nbformat": 4,
 "nbformat_minor": 5
}
