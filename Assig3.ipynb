{
 "cells": [
  {
   "cell_type": "code",
   "execution_count": 1,
   "id": "06a23980-122b-45e3-a0d4-4c73fdc0ca0b",
   "metadata": {},
   "outputs": [],
   "source": [
    "#Q1\n",
    "# def is the key word for creating function\n"
   ]
  },
  {
   "cell_type": "code",
   "execution_count": 5,
   "id": "a461997e-c2cf-430a-89f9-9a14dc6f28be",
   "metadata": {},
   "outputs": [
    {
     "data": {
      "text/plain": [
       "[1, 3, 5, 7, 9, 11, 13, 15, 17, 19, 21, 23]"
      ]
     },
     "execution_count": 5,
     "metadata": {},
     "output_type": "execute_result"
    }
   ],
   "source": [
    "def odd_number(a,b):\n",
    "    l1 = []\n",
    "    for i in range(a,b):\n",
    "        if i%2 != 0:\n",
    "            l1.append(i)\n",
    "    return l1\n",
    "odd_number(0, 25)\n",
    "        "
   ]
  },
  {
   "cell_type": "code",
   "execution_count": 6,
   "id": "bbf7f934-4ea3-48ed-b182-b4d3c6d59632",
   "metadata": {},
   "outputs": [],
   "source": [
    "#Q2>*args allows us to pass a variable number of non-keyword arguments to a Python function"
   ]
  },
  {
   "cell_type": "code",
   "execution_count": 7,
   "id": "60f46059-90d4-422f-ab95-cc106fb6f447",
   "metadata": {},
   "outputs": [
    {
     "name": "stdout",
     "output_type": "stream",
     "text": [
      "(2, 3) <class 'tuple'>\n"
     ]
    }
   ],
   "source": [
    "def add(*args):\n",
    "    print(args, type(args))\n",
    "\n",
    "add(2, 3)"
   ]
  },
  {
   "cell_type": "code",
   "execution_count": 12,
   "id": "33a44e0b-0f10-4507-8ab3-6739b227c393",
   "metadata": {},
   "outputs": [
    {
     "data": {
      "text/plain": [
       "15"
      ]
     },
     "execution_count": 12,
     "metadata": {},
     "output_type": "execute_result"
    }
   ],
   "source": [
    "def add(*numbers):\n",
    "    total = 0\n",
    "    for num in numbers:\n",
    "        total = total + num\n",
    "    return total\n",
    "\n",
    "add(1,2,3,4,5)"
   ]
  },
  {
   "cell_type": "code",
   "execution_count": 13,
   "id": "e7df69f1-284b-404c-96ab-5dbb1f1c3a25",
   "metadata": {},
   "outputs": [],
   "source": [
    "#**kwargs allow us to pass variable no of argument to python function"
   ]
  },
  {
   "cell_type": "code",
   "execution_count": 15,
   "id": "b07cabf8-abe5-4aa9-adb4-acf3a9bdfcb1",
   "metadata": {},
   "outputs": [
    {
     "name": "stdout",
     "output_type": "stream",
     "text": [
      "{'banana': 5, 'mango': 7, 'apple': 8} <class 'dict'>\n"
     ]
    }
   ],
   "source": [
    "def total_fruits(**kwargs):\n",
    "    print(kwargs, type(kwargs))\n",
    "\n",
    "\n",
    "total_fruits(banana=5, mango=7, apple=8)"
   ]
  },
  {
   "cell_type": "code",
   "execution_count": 19,
   "id": "8a5f8774-a753-42e3-a290-186f6c7824be",
   "metadata": {},
   "outputs": [
    {
     "name": "stdout",
     "output_type": "stream",
     "text": [
      "2\n",
      "4\n",
      "6\n",
      "8\n",
      "10\n"
     ]
    }
   ],
   "source": [
    "#Q3> iterators are the object that contains coutable value\n",
    "l1 = [2, 4, 6, 8, 10, 12, 14,16, 18, 20]\n",
    "for i in l1:\n",
    "    if i == 12:\n",
    "        break\n",
    "    print(i)"
   ]
  },
  {
   "cell_type": "code",
   "execution_count": 38,
   "id": "c8f6f11e-8dc4-4429-a266-bb59d3227203",
   "metadata": {},
   "outputs": [
    {
     "name": "stdout",
     "output_type": "stream",
     "text": [
      "0\n",
      "1\n",
      "2\n",
      "3\n",
      "4\n"
     ]
    }
   ],
   "source": [
    "#Q4>Generators we use when produce large sequence of value and don't want to store in memory at once,\n",
    "# yield keyword is used to produced a value from generator.\n",
    "def my_generator(n):\n",
    "    count = 0\n",
    "    while count < n:\n",
    "        yield count\n",
    "        count = count + 1\n",
    "        \n",
    "c=my_generator(5)\n",
    "for i in c:\n",
    "    print(i)"
   ]
  },
  {
   "cell_type": "raw",
   "id": "77374fd2-569b-46c5-aa24-280b86cd8c00",
   "metadata": {},
   "source": [
    "#Q5>\n",
    "\n",
    "def generator_fnc(n):\n",
    "    for i in range(2, n):\n",
    "        for j in range(2, i):\n",
    "            if i % j == 0:\n",
    "                break\n",
    "        else:\n",
    "            return i\n",
    "c = generator_fnc(1000)\n",
    "for val in c:\n",
    "    print(val)"
   ]
  },
  {
   "cell_type": "code",
   "execution_count": 2,
   "id": "dce03029-5cab-4bfb-a398-e1b4c9099d31",
   "metadata": {},
   "outputs": [
    {
     "name": "stdout",
     "output_type": "stream",
     "text": [
      "Fibonacci Series - \n",
      "0 1 1 1 1 1 1 "
     ]
    }
   ],
   "source": [
    "#Q5>\n",
    "def PrintFibonacci(length):\n",
    "    a = 0\n",
    "    b = 1\n",
    "\n",
    "    print(a, b, end=\" \")\n",
    "\n",
    "    length -= 2\n",
    "\n",
    "    # Loop until the length becomes 0.\n",
    "    while length > 0:\n",
    "        # Printing the next Fibonacci number.\n",
    "        print(a + b, end=\" \")\n",
    "\n",
    "        temp = b\n",
    "        second = a + b\n",
    "        first = temp\n",
    "        length -= 1\n",
    "if __name__ == \"__main__\":\n",
    "    print(\"Fibonacci Series - \")\n",
    "    PrintFibonacci(7)\n"
   ]
  },
  {
   "cell_type": "code",
   "execution_count": 3,
   "id": "cc29c0ab-3bb4-433c-b202-8a75e288054a",
   "metadata": {},
   "outputs": [],
   "source": [
    "#Q7>\n",
    "l1 = 'pwskills'\n",
    "comr_list = [x for x in l1]"
   ]
  },
  {
   "cell_type": "code",
   "execution_count": 5,
   "id": "cac04087-fcd4-4f2e-a03d-e8ca60e80f56",
   "metadata": {},
   "outputs": [
    {
     "data": {
      "text/plain": [
       "['p', 'w', 's', 'k', 'i', 'l', 'l', 's']"
      ]
     },
     "execution_count": 5,
     "metadata": {},
     "output_type": "execute_result"
    }
   ],
   "source": [
    "comr_list"
   ]
  },
  {
   "cell_type": "code",
   "execution_count": null,
   "id": "8aedd133-fa32-4901-b6b3-99659a7cc3fd",
   "metadata": {},
   "outputs": [],
   "source": [
    "#Q8>\n",
    "num = int(input('Enter a number  '))\n",
    "temp = num\n",
    "rev = 0\n",
    "while (num > 0):\n",
    "    dig = num%10\n",
    "    rev = rev*10+dig\n",
    "    num = num//10\n",
    "if(temp==rev):\n",
    "    print(\"The {0} number is palindrome!\".format(temp))\n",
    "else:\n",
    "    print(\"Not a palindrome!\")"
   ]
  },
  {
   "cell_type": "code",
   "execution_count": null,
   "id": "4b03c1b2-ba00-4467-892d-d1a1bce8d648",
   "metadata": {},
   "outputs": [],
   "source": [
    "#Q9>\n",
    "l1 = [x for x in range(1,100) if x%2 !=0]"
   ]
  }
 ],
 "metadata": {
  "kernelspec": {
   "display_name": "Python 3 (ipykernel)",
   "language": "python",
   "name": "python3"
  },
  "language_info": {
   "codemirror_mode": {
    "name": "ipython",
    "version": 3
   },
   "file_extension": ".py",
   "mimetype": "text/x-python",
   "name": "python",
   "nbconvert_exporter": "python",
   "pygments_lexer": "ipython3",
   "version": "3.10.8"
  }
 },
 "nbformat": 4,
 "nbformat_minor": 5
}
